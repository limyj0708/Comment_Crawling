{
 "cells": [
  {
   "cell_type": "code",
   "execution_count": 1,
   "metadata": {},
   "outputs": [],
   "source": [
    "import youtube_comment_crawl as ycc\n",
    "import youtube_video_crawl as yvc"
   ]
  },
  {
   "cell_type": "code",
   "execution_count": 2,
   "metadata": {},
   "outputs": [],
   "source": [
    "yvc1 = yvc.get_videos('summoners war lost centuria', 'id, snippet', 'date', 5, 3, 'snippet, replies', 'relevance', 100, 5)"
   ]
  },
  {
   "cell_type": "code",
   "execution_count": 3,
   "metadata": {},
   "outputs": [],
   "source": [
    "yvc1.get_main()"
   ]
  }
 ],
 "metadata": {
  "kernelspec": {
   "display_name": "webCrawling",
   "language": "python",
   "name": "webcrawling"
  },
  "language_info": {
   "codemirror_mode": {
    "name": "ipython",
    "version": 3
   },
   "file_extension": ".py",
   "mimetype": "text/x-python",
   "name": "python",
   "nbconvert_exporter": "python",
   "pygments_lexer": "ipython3",
   "version": "3.9.0"
  }
 },
 "nbformat": 4,
 "nbformat_minor": 4
}

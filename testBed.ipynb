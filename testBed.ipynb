{
 "cells": [
  {
   "cell_type": "code",
   "execution_count": 1,
   "metadata": {},
   "outputs": [],
   "source": [
    "import youtube_comment_crawl as ycc\n",
    "import youtube_video_crawl as yvc"
   ]
  },
  {
   "cell_type": "code",
   "execution_count": 2,
   "metadata": {},
   "outputs": [],
   "source": [
    "arguments = {\n",
    "    'query' : 'summoners war lost centuria'\n",
    "    ,'part' : 'id, snippet'\n",
    "    ,'order' : 'relevance'\n",
    "    ,'maxResults' : 5\n",
    "    ,'maxPage' : 5\n",
    "    ,'part_c' : 'snippet, replies'\n",
    "    ,'order_c' : 'relevance'\n",
    "    ,'maxResults_c' : 5\n",
    "    ,'maxPage_c' : 5\n",
    "    ,'publishedBefore' : '2020-11-14T00:00:00Z'\n",
    "    ,'publishedAfter' : '2020-11-20T00:00:00Z'\n",
    "}\n",
    "\n",
    "yvc1 = yvc.get_videos(**arguments)"
   ]
  },
  {
   "cell_type": "code",
   "execution_count": null,
   "metadata": {},
   "outputs": [],
   "source": [
    "yvc1.get_main()"
   ]
  }
 ],
 "metadata": {
  "kernelspec": {
   "display_name": "webCrawling",
   "language": "python",
   "name": "webcrawling"
  },
  "language_info": {
   "codemirror_mode": {
    "name": "ipython",
    "version": 3
   },
   "file_extension": ".py",
   "mimetype": "text/x-python",
   "name": "python",
   "nbconvert_exporter": "python",
   "pygments_lexer": "ipython3",
   "version": "3.9.0"
  }
 },
 "nbformat": 4,
 "nbformat_minor": 4
}
